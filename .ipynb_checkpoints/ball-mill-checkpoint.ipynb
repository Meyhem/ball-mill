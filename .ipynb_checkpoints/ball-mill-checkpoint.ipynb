{
 "cells": [
  {
   "cell_type": "code",
   "execution_count": 11,
   "id": "92d96e77-ca1d-476c-914f-d16bac0d1795",
   "metadata": {},
   "outputs": [
    {
     "name": "stdout",
     "output_type": "stream",
     "text": [
      "Shaft low RPM: 400.0\n",
      "Shaft mid RPM: 600.0\n",
      "Shaft high RPM: 800.0\n"
     ]
    }
   ],
   "source": [
    "container_mid_RPM = 20\n",
    "\n",
    "motor_low_RPM = 5000\n",
    "motor_mid_RPM = 7500\n",
    "motor_high_RPM = 10000\n",
    "\n",
    "motor_gear_teeth = 8\n",
    "shaft_gear_teeth = 100\n",
    "container_gear_teeth = 100\n",
    "drive_gear_teeth = 8\n",
    "\n",
    "\n",
    "shaft_low_RPM = motor_low_RPM * (motor_gear_teeth / shaft_gear_teeth)\n",
    "shaft_mid_RPM = motor_mid_RPM * (motor_gear_teeth / shaft_gear_teeth)\n",
    "shaft_high_RPM = motor_high_RPM * (motor_gear_teeth / shaft_gear_teeth)\n",
    "\n",
    "print(f'Shaft low RPM: {shaft_low_RPM}')\n",
    "print(f'Shaft mid RPM: {shaft_mid_RPM}')\n",
    "print(f'Shaft high RPM: {shaft_high_RPM}')"
   ]
  },
  {
   "cell_type": "code",
   "execution_count": 12,
   "id": "cd0478ea-142f-4ed3-a483-8690f03f4665",
   "metadata": {},
   "outputs": [
    {
     "name": "stdout",
     "output_type": "stream",
     "text": [
      "6.25\n"
     ]
    }
   ],
   "source": [
    "print(container_gear_teeth / drive_gear_teeth)"
   ]
  },
  {
   "cell_type": "code",
   "execution_count": null,
   "id": "73d040d2-b648-4d91-be1c-fa1e32b9ebf5",
   "metadata": {},
   "outputs": [],
   "source": []
  }
 ],
 "metadata": {
  "kernelspec": {
   "display_name": "Python 3 (ipykernel)",
   "language": "python",
   "name": "python3"
  },
  "language_info": {
   "codemirror_mode": {
    "name": "ipython",
    "version": 3
   },
   "file_extension": ".py",
   "mimetype": "text/x-python",
   "name": "python",
   "nbconvert_exporter": "python",
   "pygments_lexer": "ipython3",
   "version": "3.10.4"
  }
 },
 "nbformat": 4,
 "nbformat_minor": 5
}
