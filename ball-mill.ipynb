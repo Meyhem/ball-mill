{
 "cells": [
  {
   "cell_type": "code",
   "execution_count": 2,
   "id": "92d96e77-ca1d-476c-914f-d16bac0d1795",
   "metadata": {},
   "outputs": [
    {
     "name": "stdout",
     "output_type": "stream",
     "text": [
      "Mill low RPM: 17.5\n",
      "Mill high RPM: 35.0\n"
     ]
    }
   ],
   "source": [
    "# 14.4 V 1A 0.003ms - 0.044ms -> 1400 RPM\n",
    "# 7.4  V 1A 0.000ms - 0.080ms -> 700 RPM\n",
    "\n",
    "container_mid_RPM = 20\n",
    "\n",
    "motor_low_RPM = 700\n",
    "motor_high_RPM = 1400\n",
    "\n",
    "motor_gear_teeth = 10\n",
    "shaft_gear_teeth = 100\n",
    "\n",
    "mill_gear_teeth = 100\n",
    "\n",
    "drive_gear_teeth = 25\n",
    "\n",
    "shaft_low_RPM = motor_low_RPM * (motor_gear_teeth / shaft_gear_teeth)\n",
    "shaft_high_RPM = motor_high_RPM * (motor_gear_teeth / shaft_gear_teeth)\n",
    "\n",
    "mill_low_RPM = shaft_low_RPM * (drive_gear_teeth / mill_gear_teeth)\n",
    "mill_high_RPM = shaft_high_RPM * (drive_gear_teeth / mill_gear_teeth)\n",
    "\n",
    "print(f'Mill low RPM: {mill_low_RPM}')\n",
    "print(f'Mill high RPM: {mill_high_RPM}')"
   ]
  }
 ],
 "metadata": {
  "kernelspec": {
   "display_name": "Python 3.10.4 64-bit",
   "language": "python",
   "name": "python3"
  },
  "language_info": {
   "codemirror_mode": {
    "name": "ipython",
    "version": 3
   },
   "file_extension": ".py",
   "mimetype": "text/x-python",
   "name": "python",
   "nbconvert_exporter": "python",
   "pygments_lexer": "ipython3",
   "version": "3.10.4"
  },
  "vscode": {
   "interpreter": {
    "hash": "f0226251bda02cc823a5dde4d52c37bea2da6bd1da89c2e062c057b565a9e954"
   }
  }
 },
 "nbformat": 4,
 "nbformat_minor": 5
}
